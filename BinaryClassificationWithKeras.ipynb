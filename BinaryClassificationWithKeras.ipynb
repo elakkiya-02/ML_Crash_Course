{
  "nbformat": 4,
  "nbformat_minor": 0,
  "metadata": {
    "colab": {
      "name": "BinaryClassificationWithKeras.ipynb",
      "provenance": [],
      "authorship_tag": "ABX9TyNuzaZ/0ezn0WJkPjf2yoX3",
      "include_colab_link": true
    },
    "kernelspec": {
      "name": "python3",
      "display_name": "Python 3"
    },
    "language_info": {
      "name": "python"
    }
  },
  "cells": [
    {
      "cell_type": "markdown",
      "metadata": {
        "id": "view-in-github",
        "colab_type": "text"
      },
      "source": [
        "<a href=\"https://colab.research.google.com/github/elakkiya-02/ML_Crash_Course/blob/main/BinaryClassificationWithKeras.ipynb\" target=\"_parent\"><img src=\"https://colab.research.google.com/assets/colab-badge.svg\" alt=\"Open In Colab\"/></a>"
      ]
    },
    {
      "cell_type": "code",
      "execution_count": 1,
      "metadata": {
        "id": "xD3TYovzVhDJ"
      },
      "outputs": [],
      "source": [
        "%tensorflow_version 2.x"
      ]
    },
    {
      "cell_type": "code",
      "source": [
        "import numpy as np\n",
        "import pandas as pd\n",
        "import tensorflow as tf\n",
        "from matplotlib import pyplot as plt"
      ],
      "metadata": {
        "id": "IYWYzR7SV1FD"
      },
      "execution_count": 2,
      "outputs": []
    },
    {
      "cell_type": "code",
      "source": [
        "#california housing data set as provided\n",
        "train_df = pd.read_csv(\"https://download.mlcc.google.com/mledu-datasets/california_housing_train.csv\")\n",
        "test_df = pd.read_csv(\"https://download.mlcc.google.com/mledu-datasets/california_housing_test.csv\")\n",
        "train_df = train_df.reindex(np.random.permutation(train_df.index))"
      ],
      "metadata": {
        "id": "VJQ4QeVNWDNf"
      },
      "execution_count": 3,
      "outputs": []
    },
    {
      "cell_type": "code",
      "source": [
        "#Normalization with Z-score formula\n",
        "#z-score = (x-mean)/stdev\n",
        "#z-score for train set\n",
        "train_df_mean = train_df.mean()\n",
        "train_df_std = train_df.std()\n",
        "#to a pandas df\n",
        "train_df_norm = (train_df - train_df_mean)/train_df_std"
      ],
      "metadata": {
        "id": "0lRE0MO_Witq"
      },
      "execution_count": 4,
      "outputs": []
    },
    {
      "cell_type": "code",
      "source": [
        "train_df_norm.head()"
      ],
      "metadata": {
        "colab": {
          "base_uri": "https://localhost:8080/",
          "height": 206
        },
        "id": "8mn01h_bXT4Z",
        "outputId": "95ef4d3e-c6de-4e10-b3b3-58f6f93dc181"
      },
      "execution_count": 5,
      "outputs": [
        {
          "output_type": "execute_result",
          "data": {
            "text/plain": [
              "       longitude  latitude  housing_median_age  total_rooms  total_bedrooms  \\\n",
              "10954  -0.662235  1.719322           -0.920744    -0.165905       -0.257203   \n",
              "12305  -0.966449  1.387133            1.144889    -1.172352       -1.229921   \n",
              "15018  -1.340483  1.948579           -1.000192    -0.237008       -0.302280   \n",
              "7864    0.579557 -0.671500            0.509310    -0.212695        0.141374   \n",
              "14121  -1.250715  2.491310           -1.159087     0.035476        0.207804   \n",
              "\n",
              "       population  households  median_income  median_house_value  \n",
              "10954   -0.396892   -0.338660      -0.179167           -0.450071  \n",
              "12305   -1.141761   -1.254085      -1.131237           -1.205349  \n",
              "15018   -0.283637   -0.343862      -0.438475           -1.164826  \n",
              "7864     0.046544    0.189269      -0.442353           -0.137958  \n",
              "14121   -0.064097   -0.086398      -0.447384           -1.156204  "
            ],
            "text/html": [
              "\n",
              "  <div id=\"df-150bfa1e-89a2-4756-9f27-27c0df34a652\">\n",
              "    <div class=\"colab-df-container\">\n",
              "      <div>\n",
              "<style scoped>\n",
              "    .dataframe tbody tr th:only-of-type {\n",
              "        vertical-align: middle;\n",
              "    }\n",
              "\n",
              "    .dataframe tbody tr th {\n",
              "        vertical-align: top;\n",
              "    }\n",
              "\n",
              "    .dataframe thead th {\n",
              "        text-align: right;\n",
              "    }\n",
              "</style>\n",
              "<table border=\"1\" class=\"dataframe\">\n",
              "  <thead>\n",
              "    <tr style=\"text-align: right;\">\n",
              "      <th></th>\n",
              "      <th>longitude</th>\n",
              "      <th>latitude</th>\n",
              "      <th>housing_median_age</th>\n",
              "      <th>total_rooms</th>\n",
              "      <th>total_bedrooms</th>\n",
              "      <th>population</th>\n",
              "      <th>households</th>\n",
              "      <th>median_income</th>\n",
              "      <th>median_house_value</th>\n",
              "    </tr>\n",
              "  </thead>\n",
              "  <tbody>\n",
              "    <tr>\n",
              "      <th>10954</th>\n",
              "      <td>-0.662235</td>\n",
              "      <td>1.719322</td>\n",
              "      <td>-0.920744</td>\n",
              "      <td>-0.165905</td>\n",
              "      <td>-0.257203</td>\n",
              "      <td>-0.396892</td>\n",
              "      <td>-0.338660</td>\n",
              "      <td>-0.179167</td>\n",
              "      <td>-0.450071</td>\n",
              "    </tr>\n",
              "    <tr>\n",
              "      <th>12305</th>\n",
              "      <td>-0.966449</td>\n",
              "      <td>1.387133</td>\n",
              "      <td>1.144889</td>\n",
              "      <td>-1.172352</td>\n",
              "      <td>-1.229921</td>\n",
              "      <td>-1.141761</td>\n",
              "      <td>-1.254085</td>\n",
              "      <td>-1.131237</td>\n",
              "      <td>-1.205349</td>\n",
              "    </tr>\n",
              "    <tr>\n",
              "      <th>15018</th>\n",
              "      <td>-1.340483</td>\n",
              "      <td>1.948579</td>\n",
              "      <td>-1.000192</td>\n",
              "      <td>-0.237008</td>\n",
              "      <td>-0.302280</td>\n",
              "      <td>-0.283637</td>\n",
              "      <td>-0.343862</td>\n",
              "      <td>-0.438475</td>\n",
              "      <td>-1.164826</td>\n",
              "    </tr>\n",
              "    <tr>\n",
              "      <th>7864</th>\n",
              "      <td>0.579557</td>\n",
              "      <td>-0.671500</td>\n",
              "      <td>0.509310</td>\n",
              "      <td>-0.212695</td>\n",
              "      <td>0.141374</td>\n",
              "      <td>0.046544</td>\n",
              "      <td>0.189269</td>\n",
              "      <td>-0.442353</td>\n",
              "      <td>-0.137958</td>\n",
              "    </tr>\n",
              "    <tr>\n",
              "      <th>14121</th>\n",
              "      <td>-1.250715</td>\n",
              "      <td>2.491310</td>\n",
              "      <td>-1.159087</td>\n",
              "      <td>0.035476</td>\n",
              "      <td>0.207804</td>\n",
              "      <td>-0.064097</td>\n",
              "      <td>-0.086398</td>\n",
              "      <td>-0.447384</td>\n",
              "      <td>-1.156204</td>\n",
              "    </tr>\n",
              "  </tbody>\n",
              "</table>\n",
              "</div>\n",
              "      <button class=\"colab-df-convert\" onclick=\"convertToInteractive('df-150bfa1e-89a2-4756-9f27-27c0df34a652')\"\n",
              "              title=\"Convert this dataframe to an interactive table.\"\n",
              "              style=\"display:none;\">\n",
              "        \n",
              "  <svg xmlns=\"http://www.w3.org/2000/svg\" height=\"24px\"viewBox=\"0 0 24 24\"\n",
              "       width=\"24px\">\n",
              "    <path d=\"M0 0h24v24H0V0z\" fill=\"none\"/>\n",
              "    <path d=\"M18.56 5.44l.94 2.06.94-2.06 2.06-.94-2.06-.94-.94-2.06-.94 2.06-2.06.94zm-11 1L8.5 8.5l.94-2.06 2.06-.94-2.06-.94L8.5 2.5l-.94 2.06-2.06.94zm10 10l.94 2.06.94-2.06 2.06-.94-2.06-.94-.94-2.06-.94 2.06-2.06.94z\"/><path d=\"M17.41 7.96l-1.37-1.37c-.4-.4-.92-.59-1.43-.59-.52 0-1.04.2-1.43.59L10.3 9.45l-7.72 7.72c-.78.78-.78 2.05 0 2.83L4 21.41c.39.39.9.59 1.41.59.51 0 1.02-.2 1.41-.59l7.78-7.78 2.81-2.81c.8-.78.8-2.07 0-2.86zM5.41 20L4 18.59l7.72-7.72 1.47 1.35L5.41 20z\"/>\n",
              "  </svg>\n",
              "      </button>\n",
              "      \n",
              "  <style>\n",
              "    .colab-df-container {\n",
              "      display:flex;\n",
              "      flex-wrap:wrap;\n",
              "      gap: 12px;\n",
              "    }\n",
              "\n",
              "    .colab-df-convert {\n",
              "      background-color: #E8F0FE;\n",
              "      border: none;\n",
              "      border-radius: 50%;\n",
              "      cursor: pointer;\n",
              "      display: none;\n",
              "      fill: #1967D2;\n",
              "      height: 32px;\n",
              "      padding: 0 0 0 0;\n",
              "      width: 32px;\n",
              "    }\n",
              "\n",
              "    .colab-df-convert:hover {\n",
              "      background-color: #E2EBFA;\n",
              "      box-shadow: 0px 1px 2px rgba(60, 64, 67, 0.3), 0px 1px 3px 1px rgba(60, 64, 67, 0.15);\n",
              "      fill: #174EA6;\n",
              "    }\n",
              "\n",
              "    [theme=dark] .colab-df-convert {\n",
              "      background-color: #3B4455;\n",
              "      fill: #D2E3FC;\n",
              "    }\n",
              "\n",
              "    [theme=dark] .colab-df-convert:hover {\n",
              "      background-color: #434B5C;\n",
              "      box-shadow: 0px 1px 3px 1px rgba(0, 0, 0, 0.15);\n",
              "      filter: drop-shadow(0px 1px 2px rgba(0, 0, 0, 0.3));\n",
              "      fill: #FFFFFF;\n",
              "    }\n",
              "  </style>\n",
              "\n",
              "      <script>\n",
              "        const buttonEl =\n",
              "          document.querySelector('#df-150bfa1e-89a2-4756-9f27-27c0df34a652 button.colab-df-convert');\n",
              "        buttonEl.style.display =\n",
              "          google.colab.kernel.accessAllowed ? 'block' : 'none';\n",
              "\n",
              "        async function convertToInteractive(key) {\n",
              "          const element = document.querySelector('#df-150bfa1e-89a2-4756-9f27-27c0df34a652');\n",
              "          const dataTable =\n",
              "            await google.colab.kernel.invokeFunction('convertToInteractive',\n",
              "                                                     [key], {});\n",
              "          if (!dataTable) return;\n",
              "\n",
              "          const docLinkHtml = 'Like what you see? Visit the ' +\n",
              "            '<a target=\"_blank\" href=https://colab.research.google.com/notebooks/data_table.ipynb>data table notebook</a>'\n",
              "            + ' to learn more about interactive tables.';\n",
              "          element.innerHTML = '';\n",
              "          dataTable['output_type'] = 'display_data';\n",
              "          await google.colab.output.renderOutput(dataTable, element);\n",
              "          const docLink = document.createElement('div');\n",
              "          docLink.innerHTML = docLinkHtml;\n",
              "          element.appendChild(docLink);\n",
              "        }\n",
              "      </script>\n",
              "    </div>\n",
              "  </div>\n",
              "  "
            ]
          },
          "metadata": {},
          "execution_count": 5
        }
      ]
    },
    {
      "cell_type": "code",
      "source": [
        "#z-score for test_df\n",
        "test_df_mean = test_df.mean()\n",
        "test_df_std = test_df.std()\n",
        "#to a pandas df\n",
        "test_df_norm = (test_df - test_df_mean)/test_df_std"
      ],
      "metadata": {
        "id": "IhJLc2YAXWX_"
      },
      "execution_count": 6,
      "outputs": []
    },
    {
      "cell_type": "code",
      "source": [
        "test_df_norm.head()"
      ],
      "metadata": {
        "colab": {
          "base_uri": "https://localhost:8080/",
          "height": 206
        },
        "id": "XHgZtimdXw3k",
        "outputId": "61fcb29a-3510-4774-ad2a-a27695bc29b8"
      },
      "execution_count": 7,
      "outputs": [
        {
          "output_type": "execute_result",
          "data": {
            "text/plain": [
              "   longitude  latitude  housing_median_age  total_rooms  total_bedrooms  \\\n",
              "0  -1.233523  0.814497           -0.146975     0.596319        0.315284   \n",
              "1   0.646236 -0.645823            1.127377    -0.505466       -0.529167   \n",
              "2   0.891858 -0.871210           -0.146975     0.459002       -0.055216   \n",
              "3   0.616160 -0.852428           -0.067328    -1.174887       -1.238892   \n",
              "4  -0.040503  0.326159           -0.784152    -0.630257       -0.687953   \n",
              "\n",
              "   population  households  median_income  median_house_value  \n",
              "0    0.130224    0.317681       1.510494            1.227494  \n",
              "1   -0.576200   -0.582646      -0.112305           -0.259427  \n",
              "2    0.078795    0.013924       1.070971            0.571551  \n",
              "3   -1.313675   -1.310570       1.255656            1.097543  \n",
              "4   -0.536415   -0.692108      -0.469003           -1.097477  "
            ],
            "text/html": [
              "\n",
              "  <div id=\"df-d9015946-d20c-4532-97bf-7fdabb19d5f0\">\n",
              "    <div class=\"colab-df-container\">\n",
              "      <div>\n",
              "<style scoped>\n",
              "    .dataframe tbody tr th:only-of-type {\n",
              "        vertical-align: middle;\n",
              "    }\n",
              "\n",
              "    .dataframe tbody tr th {\n",
              "        vertical-align: top;\n",
              "    }\n",
              "\n",
              "    .dataframe thead th {\n",
              "        text-align: right;\n",
              "    }\n",
              "</style>\n",
              "<table border=\"1\" class=\"dataframe\">\n",
              "  <thead>\n",
              "    <tr style=\"text-align: right;\">\n",
              "      <th></th>\n",
              "      <th>longitude</th>\n",
              "      <th>latitude</th>\n",
              "      <th>housing_median_age</th>\n",
              "      <th>total_rooms</th>\n",
              "      <th>total_bedrooms</th>\n",
              "      <th>population</th>\n",
              "      <th>households</th>\n",
              "      <th>median_income</th>\n",
              "      <th>median_house_value</th>\n",
              "    </tr>\n",
              "  </thead>\n",
              "  <tbody>\n",
              "    <tr>\n",
              "      <th>0</th>\n",
              "      <td>-1.233523</td>\n",
              "      <td>0.814497</td>\n",
              "      <td>-0.146975</td>\n",
              "      <td>0.596319</td>\n",
              "      <td>0.315284</td>\n",
              "      <td>0.130224</td>\n",
              "      <td>0.317681</td>\n",
              "      <td>1.510494</td>\n",
              "      <td>1.227494</td>\n",
              "    </tr>\n",
              "    <tr>\n",
              "      <th>1</th>\n",
              "      <td>0.646236</td>\n",
              "      <td>-0.645823</td>\n",
              "      <td>1.127377</td>\n",
              "      <td>-0.505466</td>\n",
              "      <td>-0.529167</td>\n",
              "      <td>-0.576200</td>\n",
              "      <td>-0.582646</td>\n",
              "      <td>-0.112305</td>\n",
              "      <td>-0.259427</td>\n",
              "    </tr>\n",
              "    <tr>\n",
              "      <th>2</th>\n",
              "      <td>0.891858</td>\n",
              "      <td>-0.871210</td>\n",
              "      <td>-0.146975</td>\n",
              "      <td>0.459002</td>\n",
              "      <td>-0.055216</td>\n",
              "      <td>0.078795</td>\n",
              "      <td>0.013924</td>\n",
              "      <td>1.070971</td>\n",
              "      <td>0.571551</td>\n",
              "    </tr>\n",
              "    <tr>\n",
              "      <th>3</th>\n",
              "      <td>0.616160</td>\n",
              "      <td>-0.852428</td>\n",
              "      <td>-0.067328</td>\n",
              "      <td>-1.174887</td>\n",
              "      <td>-1.238892</td>\n",
              "      <td>-1.313675</td>\n",
              "      <td>-1.310570</td>\n",
              "      <td>1.255656</td>\n",
              "      <td>1.097543</td>\n",
              "    </tr>\n",
              "    <tr>\n",
              "      <th>4</th>\n",
              "      <td>-0.040503</td>\n",
              "      <td>0.326159</td>\n",
              "      <td>-0.784152</td>\n",
              "      <td>-0.630257</td>\n",
              "      <td>-0.687953</td>\n",
              "      <td>-0.536415</td>\n",
              "      <td>-0.692108</td>\n",
              "      <td>-0.469003</td>\n",
              "      <td>-1.097477</td>\n",
              "    </tr>\n",
              "  </tbody>\n",
              "</table>\n",
              "</div>\n",
              "      <button class=\"colab-df-convert\" onclick=\"convertToInteractive('df-d9015946-d20c-4532-97bf-7fdabb19d5f0')\"\n",
              "              title=\"Convert this dataframe to an interactive table.\"\n",
              "              style=\"display:none;\">\n",
              "        \n",
              "  <svg xmlns=\"http://www.w3.org/2000/svg\" height=\"24px\"viewBox=\"0 0 24 24\"\n",
              "       width=\"24px\">\n",
              "    <path d=\"M0 0h24v24H0V0z\" fill=\"none\"/>\n",
              "    <path d=\"M18.56 5.44l.94 2.06.94-2.06 2.06-.94-2.06-.94-.94-2.06-.94 2.06-2.06.94zm-11 1L8.5 8.5l.94-2.06 2.06-.94-2.06-.94L8.5 2.5l-.94 2.06-2.06.94zm10 10l.94 2.06.94-2.06 2.06-.94-2.06-.94-.94-2.06-.94 2.06-2.06.94z\"/><path d=\"M17.41 7.96l-1.37-1.37c-.4-.4-.92-.59-1.43-.59-.52 0-1.04.2-1.43.59L10.3 9.45l-7.72 7.72c-.78.78-.78 2.05 0 2.83L4 21.41c.39.39.9.59 1.41.59.51 0 1.02-.2 1.41-.59l7.78-7.78 2.81-2.81c.8-.78.8-2.07 0-2.86zM5.41 20L4 18.59l7.72-7.72 1.47 1.35L5.41 20z\"/>\n",
              "  </svg>\n",
              "      </button>\n",
              "      \n",
              "  <style>\n",
              "    .colab-df-container {\n",
              "      display:flex;\n",
              "      flex-wrap:wrap;\n",
              "      gap: 12px;\n",
              "    }\n",
              "\n",
              "    .colab-df-convert {\n",
              "      background-color: #E8F0FE;\n",
              "      border: none;\n",
              "      border-radius: 50%;\n",
              "      cursor: pointer;\n",
              "      display: none;\n",
              "      fill: #1967D2;\n",
              "      height: 32px;\n",
              "      padding: 0 0 0 0;\n",
              "      width: 32px;\n",
              "    }\n",
              "\n",
              "    .colab-df-convert:hover {\n",
              "      background-color: #E2EBFA;\n",
              "      box-shadow: 0px 1px 2px rgba(60, 64, 67, 0.3), 0px 1px 3px 1px rgba(60, 64, 67, 0.15);\n",
              "      fill: #174EA6;\n",
              "    }\n",
              "\n",
              "    [theme=dark] .colab-df-convert {\n",
              "      background-color: #3B4455;\n",
              "      fill: #D2E3FC;\n",
              "    }\n",
              "\n",
              "    [theme=dark] .colab-df-convert:hover {\n",
              "      background-color: #434B5C;\n",
              "      box-shadow: 0px 1px 3px 1px rgba(0, 0, 0, 0.15);\n",
              "      filter: drop-shadow(0px 1px 2px rgba(0, 0, 0, 0.3));\n",
              "      fill: #FFFFFF;\n",
              "    }\n",
              "  </style>\n",
              "\n",
              "      <script>\n",
              "        const buttonEl =\n",
              "          document.querySelector('#df-d9015946-d20c-4532-97bf-7fdabb19d5f0 button.colab-df-convert');\n",
              "        buttonEl.style.display =\n",
              "          google.colab.kernel.accessAllowed ? 'block' : 'none';\n",
              "\n",
              "        async function convertToInteractive(key) {\n",
              "          const element = document.querySelector('#df-d9015946-d20c-4532-97bf-7fdabb19d5f0');\n",
              "          const dataTable =\n",
              "            await google.colab.kernel.invokeFunction('convertToInteractive',\n",
              "                                                     [key], {});\n",
              "          if (!dataTable) return;\n",
              "\n",
              "          const docLinkHtml = 'Like what you see? Visit the ' +\n",
              "            '<a target=\"_blank\" href=https://colab.research.google.com/notebooks/data_table.ipynb>data table notebook</a>'\n",
              "            + ' to learn more about interactive tables.';\n",
              "          element.innerHTML = '';\n",
              "          dataTable['output_type'] = 'display_data';\n",
              "          await google.colab.output.renderOutput(dataTable, element);\n",
              "          const docLink = document.createElement('div');\n",
              "          docLink.innerHTML = docLinkHtml;\n",
              "          element.appendChild(docLink);\n",
              "        }\n",
              "      </script>\n",
              "    </div>\n",
              "  </div>\n",
              "  "
            ]
          },
          "metadata": {},
          "execution_count": 7
        }
      ]
    },
    {
      "cell_type": "code",
      "source": [
        "train_df.describe()"
      ],
      "metadata": {
        "colab": {
          "base_uri": "https://localhost:8080/",
          "height": 300
        },
        "id": "HlCPod7SX2IP",
        "outputId": "762e8810-4442-4eba-c92b-af8d6e5653e9"
      },
      "execution_count": 8,
      "outputs": [
        {
          "output_type": "execute_result",
          "data": {
            "text/plain": [
              "          longitude      latitude  housing_median_age   total_rooms  \\\n",
              "count  17000.000000  17000.000000        17000.000000  17000.000000   \n",
              "mean    -119.562108     35.625225           28.589353   2643.664412   \n",
              "std        2.005166      2.137340           12.586937   2179.947071   \n",
              "min     -124.350000     32.540000            1.000000      2.000000   \n",
              "25%     -121.790000     33.930000           18.000000   1462.000000   \n",
              "50%     -118.490000     34.250000           29.000000   2127.000000   \n",
              "75%     -118.000000     37.720000           37.000000   3151.250000   \n",
              "max     -114.310000     41.950000           52.000000  37937.000000   \n",
              "\n",
              "       total_bedrooms    population    households  median_income  \\\n",
              "count    17000.000000  17000.000000  17000.000000   17000.000000   \n",
              "mean       539.410824   1429.573941    501.221941       3.883578   \n",
              "std        421.499452   1147.852959    384.520841       1.908157   \n",
              "min          1.000000      3.000000      1.000000       0.499900   \n",
              "25%        297.000000    790.000000    282.000000       2.566375   \n",
              "50%        434.000000   1167.000000    409.000000       3.544600   \n",
              "75%        648.250000   1721.000000    605.250000       4.767000   \n",
              "max       6445.000000  35682.000000   6082.000000      15.000100   \n",
              "\n",
              "       median_house_value  \n",
              "count        17000.000000  \n",
              "mean        207300.912353  \n",
              "std         115983.764387  \n",
              "min          14999.000000  \n",
              "25%         119400.000000  \n",
              "50%         180400.000000  \n",
              "75%         265000.000000  \n",
              "max         500001.000000  "
            ],
            "text/html": [
              "\n",
              "  <div id=\"df-781093c4-a37a-417e-a634-ca5c4e164e56\">\n",
              "    <div class=\"colab-df-container\">\n",
              "      <div>\n",
              "<style scoped>\n",
              "    .dataframe tbody tr th:only-of-type {\n",
              "        vertical-align: middle;\n",
              "    }\n",
              "\n",
              "    .dataframe tbody tr th {\n",
              "        vertical-align: top;\n",
              "    }\n",
              "\n",
              "    .dataframe thead th {\n",
              "        text-align: right;\n",
              "    }\n",
              "</style>\n",
              "<table border=\"1\" class=\"dataframe\">\n",
              "  <thead>\n",
              "    <tr style=\"text-align: right;\">\n",
              "      <th></th>\n",
              "      <th>longitude</th>\n",
              "      <th>latitude</th>\n",
              "      <th>housing_median_age</th>\n",
              "      <th>total_rooms</th>\n",
              "      <th>total_bedrooms</th>\n",
              "      <th>population</th>\n",
              "      <th>households</th>\n",
              "      <th>median_income</th>\n",
              "      <th>median_house_value</th>\n",
              "    </tr>\n",
              "  </thead>\n",
              "  <tbody>\n",
              "    <tr>\n",
              "      <th>count</th>\n",
              "      <td>17000.000000</td>\n",
              "      <td>17000.000000</td>\n",
              "      <td>17000.000000</td>\n",
              "      <td>17000.000000</td>\n",
              "      <td>17000.000000</td>\n",
              "      <td>17000.000000</td>\n",
              "      <td>17000.000000</td>\n",
              "      <td>17000.000000</td>\n",
              "      <td>17000.000000</td>\n",
              "    </tr>\n",
              "    <tr>\n",
              "      <th>mean</th>\n",
              "      <td>-119.562108</td>\n",
              "      <td>35.625225</td>\n",
              "      <td>28.589353</td>\n",
              "      <td>2643.664412</td>\n",
              "      <td>539.410824</td>\n",
              "      <td>1429.573941</td>\n",
              "      <td>501.221941</td>\n",
              "      <td>3.883578</td>\n",
              "      <td>207300.912353</td>\n",
              "    </tr>\n",
              "    <tr>\n",
              "      <th>std</th>\n",
              "      <td>2.005166</td>\n",
              "      <td>2.137340</td>\n",
              "      <td>12.586937</td>\n",
              "      <td>2179.947071</td>\n",
              "      <td>421.499452</td>\n",
              "      <td>1147.852959</td>\n",
              "      <td>384.520841</td>\n",
              "      <td>1.908157</td>\n",
              "      <td>115983.764387</td>\n",
              "    </tr>\n",
              "    <tr>\n",
              "      <th>min</th>\n",
              "      <td>-124.350000</td>\n",
              "      <td>32.540000</td>\n",
              "      <td>1.000000</td>\n",
              "      <td>2.000000</td>\n",
              "      <td>1.000000</td>\n",
              "      <td>3.000000</td>\n",
              "      <td>1.000000</td>\n",
              "      <td>0.499900</td>\n",
              "      <td>14999.000000</td>\n",
              "    </tr>\n",
              "    <tr>\n",
              "      <th>25%</th>\n",
              "      <td>-121.790000</td>\n",
              "      <td>33.930000</td>\n",
              "      <td>18.000000</td>\n",
              "      <td>1462.000000</td>\n",
              "      <td>297.000000</td>\n",
              "      <td>790.000000</td>\n",
              "      <td>282.000000</td>\n",
              "      <td>2.566375</td>\n",
              "      <td>119400.000000</td>\n",
              "    </tr>\n",
              "    <tr>\n",
              "      <th>50%</th>\n",
              "      <td>-118.490000</td>\n",
              "      <td>34.250000</td>\n",
              "      <td>29.000000</td>\n",
              "      <td>2127.000000</td>\n",
              "      <td>434.000000</td>\n",
              "      <td>1167.000000</td>\n",
              "      <td>409.000000</td>\n",
              "      <td>3.544600</td>\n",
              "      <td>180400.000000</td>\n",
              "    </tr>\n",
              "    <tr>\n",
              "      <th>75%</th>\n",
              "      <td>-118.000000</td>\n",
              "      <td>37.720000</td>\n",
              "      <td>37.000000</td>\n",
              "      <td>3151.250000</td>\n",
              "      <td>648.250000</td>\n",
              "      <td>1721.000000</td>\n",
              "      <td>605.250000</td>\n",
              "      <td>4.767000</td>\n",
              "      <td>265000.000000</td>\n",
              "    </tr>\n",
              "    <tr>\n",
              "      <th>max</th>\n",
              "      <td>-114.310000</td>\n",
              "      <td>41.950000</td>\n",
              "      <td>52.000000</td>\n",
              "      <td>37937.000000</td>\n",
              "      <td>6445.000000</td>\n",
              "      <td>35682.000000</td>\n",
              "      <td>6082.000000</td>\n",
              "      <td>15.000100</td>\n",
              "      <td>500001.000000</td>\n",
              "    </tr>\n",
              "  </tbody>\n",
              "</table>\n",
              "</div>\n",
              "      <button class=\"colab-df-convert\" onclick=\"convertToInteractive('df-781093c4-a37a-417e-a634-ca5c4e164e56')\"\n",
              "              title=\"Convert this dataframe to an interactive table.\"\n",
              "              style=\"display:none;\">\n",
              "        \n",
              "  <svg xmlns=\"http://www.w3.org/2000/svg\" height=\"24px\"viewBox=\"0 0 24 24\"\n",
              "       width=\"24px\">\n",
              "    <path d=\"M0 0h24v24H0V0z\" fill=\"none\"/>\n",
              "    <path d=\"M18.56 5.44l.94 2.06.94-2.06 2.06-.94-2.06-.94-.94-2.06-.94 2.06-2.06.94zm-11 1L8.5 8.5l.94-2.06 2.06-.94-2.06-.94L8.5 2.5l-.94 2.06-2.06.94zm10 10l.94 2.06.94-2.06 2.06-.94-2.06-.94-.94-2.06-.94 2.06-2.06.94z\"/><path d=\"M17.41 7.96l-1.37-1.37c-.4-.4-.92-.59-1.43-.59-.52 0-1.04.2-1.43.59L10.3 9.45l-7.72 7.72c-.78.78-.78 2.05 0 2.83L4 21.41c.39.39.9.59 1.41.59.51 0 1.02-.2 1.41-.59l7.78-7.78 2.81-2.81c.8-.78.8-2.07 0-2.86zM5.41 20L4 18.59l7.72-7.72 1.47 1.35L5.41 20z\"/>\n",
              "  </svg>\n",
              "      </button>\n",
              "      \n",
              "  <style>\n",
              "    .colab-df-container {\n",
              "      display:flex;\n",
              "      flex-wrap:wrap;\n",
              "      gap: 12px;\n",
              "    }\n",
              "\n",
              "    .colab-df-convert {\n",
              "      background-color: #E8F0FE;\n",
              "      border: none;\n",
              "      border-radius: 50%;\n",
              "      cursor: pointer;\n",
              "      display: none;\n",
              "      fill: #1967D2;\n",
              "      height: 32px;\n",
              "      padding: 0 0 0 0;\n",
              "      width: 32px;\n",
              "    }\n",
              "\n",
              "    .colab-df-convert:hover {\n",
              "      background-color: #E2EBFA;\n",
              "      box-shadow: 0px 1px 2px rgba(60, 64, 67, 0.3), 0px 1px 3px 1px rgba(60, 64, 67, 0.15);\n",
              "      fill: #174EA6;\n",
              "    }\n",
              "\n",
              "    [theme=dark] .colab-df-convert {\n",
              "      background-color: #3B4455;\n",
              "      fill: #D2E3FC;\n",
              "    }\n",
              "\n",
              "    [theme=dark] .colab-df-convert:hover {\n",
              "      background-color: #434B5C;\n",
              "      box-shadow: 0px 1px 3px 1px rgba(0, 0, 0, 0.15);\n",
              "      filter: drop-shadow(0px 1px 2px rgba(0, 0, 0, 0.3));\n",
              "      fill: #FFFFFF;\n",
              "    }\n",
              "  </style>\n",
              "\n",
              "      <script>\n",
              "        const buttonEl =\n",
              "          document.querySelector('#df-781093c4-a37a-417e-a634-ca5c4e164e56 button.colab-df-convert');\n",
              "        buttonEl.style.display =\n",
              "          google.colab.kernel.accessAllowed ? 'block' : 'none';\n",
              "\n",
              "        async function convertToInteractive(key) {\n",
              "          const element = document.querySelector('#df-781093c4-a37a-417e-a634-ca5c4e164e56');\n",
              "          const dataTable =\n",
              "            await google.colab.kernel.invokeFunction('convertToInteractive',\n",
              "                                                     [key], {});\n",
              "          if (!dataTable) return;\n",
              "\n",
              "          const docLinkHtml = 'Like what you see? Visit the ' +\n",
              "            '<a target=\"_blank\" href=https://colab.research.google.com/notebooks/data_table.ipynb>data table notebook</a>'\n",
              "            + ' to learn more about interactive tables.';\n",
              "          element.innerHTML = '';\n",
              "          dataTable['output_type'] = 'display_data';\n",
              "          await google.colab.output.renderOutput(dataTable, element);\n",
              "          const docLink = document.createElement('div');\n",
              "          docLink.innerHTML = docLinkHtml;\n",
              "          element.appendChild(docLink);\n",
              "        }\n",
              "      </script>\n",
              "    </div>\n",
              "  </div>\n",
              "  "
            ]
          },
          "metadata": {},
          "execution_count": 8
        }
      ]
    },
    {
      "cell_type": "code",
      "source": [
        "#median_house_value 75th percentile >>265000 \n",
        "threshold = 265000\n",
        "#a new column with values to 0 and 1 for median_house_value\n",
        "train_df_norm[\"high_median_house_value\"] = (train_df[\"median_house_value\"] > threshold).astype(float)\n",
        "test_df_norm[\"high_median_house_value\"] = (test_df[\"median_house_value\"]>threshold).astype(float)\n",
        "\n",
        "print(train_df_norm.head())\n",
        "print(test_df_norm.head())"
      ],
      "metadata": {
        "colab": {
          "base_uri": "https://localhost:8080/"
        },
        "id": "g7hfGUeZYddl",
        "outputId": "e2dae1a1-d95a-4791-ea46-a5fef370998a"
      },
      "execution_count": 9,
      "outputs": [
        {
          "output_type": "stream",
          "name": "stdout",
          "text": [
            "       longitude  latitude  housing_median_age  total_rooms  total_bedrooms  \\\n",
            "10954  -0.662235  1.719322           -0.920744    -0.165905       -0.257203   \n",
            "12305  -0.966449  1.387133            1.144889    -1.172352       -1.229921   \n",
            "15018  -1.340483  1.948579           -1.000192    -0.237008       -0.302280   \n",
            "7864    0.579557 -0.671500            0.509310    -0.212695        0.141374   \n",
            "14121  -1.250715  2.491310           -1.159087     0.035476        0.207804   \n",
            "\n",
            "       population  households  median_income  median_house_value  \\\n",
            "10954   -0.396892   -0.338660      -0.179167           -0.450071   \n",
            "12305   -1.141761   -1.254085      -1.131237           -1.205349   \n",
            "15018   -0.283637   -0.343862      -0.438475           -1.164826   \n",
            "7864     0.046544    0.189269      -0.442353           -0.137958   \n",
            "14121   -0.064097   -0.086398      -0.447384           -1.156204   \n",
            "\n",
            "       high_median_house_value  \n",
            "10954                      0.0  \n",
            "12305                      0.0  \n",
            "15018                      0.0  \n",
            "7864                       0.0  \n",
            "14121                      0.0  \n",
            "   longitude  latitude  housing_median_age  total_rooms  total_bedrooms  \\\n",
            "0  -1.233523  0.814497           -0.146975     0.596319        0.315284   \n",
            "1   0.646236 -0.645823            1.127377    -0.505466       -0.529167   \n",
            "2   0.891858 -0.871210           -0.146975     0.459002       -0.055216   \n",
            "3   0.616160 -0.852428           -0.067328    -1.174887       -1.238892   \n",
            "4  -0.040503  0.326159           -0.784152    -0.630257       -0.687953   \n",
            "\n",
            "   population  households  median_income  median_house_value  \\\n",
            "0    0.130224    0.317681       1.510494            1.227494   \n",
            "1   -0.576200   -0.582646      -0.112305           -0.259427   \n",
            "2    0.078795    0.013924       1.070971            0.571551   \n",
            "3   -1.313675   -1.310570       1.255656            1.097543   \n",
            "4   -0.536415   -0.692108      -0.469003           -1.097477   \n",
            "\n",
            "   high_median_house_value  \n",
            "0                      1.0  \n",
            "1                      0.0  \n",
            "2                      1.0  \n",
            "3                      1.0  \n",
            "4                      0.0  \n"
          ]
        }
      ]
    },
    {
      "cell_type": "markdown",
      "source": [
        "Handling continuous floating point features with feature columns"
      ],
      "metadata": {
        "id": "31JE7pt2acL7"
      }
    },
    {
      "cell_type": "code",
      "source": [
        "#to hold all the feature columns\n",
        "feature_columns = []\n",
        "#median_income column\n",
        "median_income = tf.feature_column.numeric_column(\"median_income\")\n",
        "feature_columns.append(median_income)\n",
        "#total_rooms\n",
        "total_rooms = tf.feature_column.numeric_column(\"total_rooms\")\n",
        "feature_columns.append(total_rooms)"
      ],
      "metadata": {
        "id": "3glGorwObJeh"
      },
      "execution_count": 10,
      "outputs": []
    },
    {
      "cell_type": "code",
      "source": [
        "#list of feature columns into a layer\n",
        "feature_layer = tf.keras.layers.DenseFeatures(feature_columns)"
      ],
      "metadata": {
        "id": "6w3G9lDZi4nM"
      },
      "execution_count": 11,
      "outputs": []
    },
    {
      "cell_type": "code",
      "source": [
        "feature_layer(dict(train_df_norm))"
      ],
      "metadata": {
        "colab": {
          "base_uri": "https://localhost:8080/"
        },
        "id": "Nf7ckIjojGK3",
        "outputId": "7e5e692a-8b1f-4c6f-b305-d30b9948b505"
      },
      "execution_count": 12,
      "outputs": [
        {
          "output_type": "execute_result",
          "data": {
            "text/plain": [
              "<tf.Tensor: shape=(17000, 2), dtype=float32, numpy=\n",
              "array([[-0.17916669, -0.16590513],\n",
              "       [-1.1312374 , -1.1723516 ],\n",
              "       [-0.43847457, -0.23700778],\n",
              "       ...,\n",
              "       [-0.13084781,  0.5831956 ],\n",
              "       [ 0.04644373, -0.24388868],\n",
              "       [ 0.6995872 ,  0.38089713]], dtype=float32)>"
            ]
          },
          "metadata": {},
          "execution_count": 12
        }
      ]
    },
    {
      "cell_type": "code",
      "source": [
        "train_df_norm.head()"
      ],
      "metadata": {
        "colab": {
          "base_uri": "https://localhost:8080/",
          "height": 206
        },
        "id": "MHYY2Yu2jZoi",
        "outputId": "a4744338-76a5-466f-d281-7da8966d945c"
      },
      "execution_count": 13,
      "outputs": [
        {
          "output_type": "execute_result",
          "data": {
            "text/plain": [
              "       longitude  latitude  housing_median_age  total_rooms  total_bedrooms  \\\n",
              "10954  -0.662235  1.719322           -0.920744    -0.165905       -0.257203   \n",
              "12305  -0.966449  1.387133            1.144889    -1.172352       -1.229921   \n",
              "15018  -1.340483  1.948579           -1.000192    -0.237008       -0.302280   \n",
              "7864    0.579557 -0.671500            0.509310    -0.212695        0.141374   \n",
              "14121  -1.250715  2.491310           -1.159087     0.035476        0.207804   \n",
              "\n",
              "       population  households  median_income  median_house_value  \\\n",
              "10954   -0.396892   -0.338660      -0.179167           -0.450071   \n",
              "12305   -1.141761   -1.254085      -1.131237           -1.205349   \n",
              "15018   -0.283637   -0.343862      -0.438475           -1.164826   \n",
              "7864     0.046544    0.189269      -0.442353           -0.137958   \n",
              "14121   -0.064097   -0.086398      -0.447384           -1.156204   \n",
              "\n",
              "       high_median_house_value  \n",
              "10954                      0.0  \n",
              "12305                      0.0  \n",
              "15018                      0.0  \n",
              "7864                       0.0  \n",
              "14121                      0.0  "
            ],
            "text/html": [
              "\n",
              "  <div id=\"df-5fcf90b3-5390-4fdb-b763-9d1a2c976f7c\">\n",
              "    <div class=\"colab-df-container\">\n",
              "      <div>\n",
              "<style scoped>\n",
              "    .dataframe tbody tr th:only-of-type {\n",
              "        vertical-align: middle;\n",
              "    }\n",
              "\n",
              "    .dataframe tbody tr th {\n",
              "        vertical-align: top;\n",
              "    }\n",
              "\n",
              "    .dataframe thead th {\n",
              "        text-align: right;\n",
              "    }\n",
              "</style>\n",
              "<table border=\"1\" class=\"dataframe\">\n",
              "  <thead>\n",
              "    <tr style=\"text-align: right;\">\n",
              "      <th></th>\n",
              "      <th>longitude</th>\n",
              "      <th>latitude</th>\n",
              "      <th>housing_median_age</th>\n",
              "      <th>total_rooms</th>\n",
              "      <th>total_bedrooms</th>\n",
              "      <th>population</th>\n",
              "      <th>households</th>\n",
              "      <th>median_income</th>\n",
              "      <th>median_house_value</th>\n",
              "      <th>high_median_house_value</th>\n",
              "    </tr>\n",
              "  </thead>\n",
              "  <tbody>\n",
              "    <tr>\n",
              "      <th>10954</th>\n",
              "      <td>-0.662235</td>\n",
              "      <td>1.719322</td>\n",
              "      <td>-0.920744</td>\n",
              "      <td>-0.165905</td>\n",
              "      <td>-0.257203</td>\n",
              "      <td>-0.396892</td>\n",
              "      <td>-0.338660</td>\n",
              "      <td>-0.179167</td>\n",
              "      <td>-0.450071</td>\n",
              "      <td>0.0</td>\n",
              "    </tr>\n",
              "    <tr>\n",
              "      <th>12305</th>\n",
              "      <td>-0.966449</td>\n",
              "      <td>1.387133</td>\n",
              "      <td>1.144889</td>\n",
              "      <td>-1.172352</td>\n",
              "      <td>-1.229921</td>\n",
              "      <td>-1.141761</td>\n",
              "      <td>-1.254085</td>\n",
              "      <td>-1.131237</td>\n",
              "      <td>-1.205349</td>\n",
              "      <td>0.0</td>\n",
              "    </tr>\n",
              "    <tr>\n",
              "      <th>15018</th>\n",
              "      <td>-1.340483</td>\n",
              "      <td>1.948579</td>\n",
              "      <td>-1.000192</td>\n",
              "      <td>-0.237008</td>\n",
              "      <td>-0.302280</td>\n",
              "      <td>-0.283637</td>\n",
              "      <td>-0.343862</td>\n",
              "      <td>-0.438475</td>\n",
              "      <td>-1.164826</td>\n",
              "      <td>0.0</td>\n",
              "    </tr>\n",
              "    <tr>\n",
              "      <th>7864</th>\n",
              "      <td>0.579557</td>\n",
              "      <td>-0.671500</td>\n",
              "      <td>0.509310</td>\n",
              "      <td>-0.212695</td>\n",
              "      <td>0.141374</td>\n",
              "      <td>0.046544</td>\n",
              "      <td>0.189269</td>\n",
              "      <td>-0.442353</td>\n",
              "      <td>-0.137958</td>\n",
              "      <td>0.0</td>\n",
              "    </tr>\n",
              "    <tr>\n",
              "      <th>14121</th>\n",
              "      <td>-1.250715</td>\n",
              "      <td>2.491310</td>\n",
              "      <td>-1.159087</td>\n",
              "      <td>0.035476</td>\n",
              "      <td>0.207804</td>\n",
              "      <td>-0.064097</td>\n",
              "      <td>-0.086398</td>\n",
              "      <td>-0.447384</td>\n",
              "      <td>-1.156204</td>\n",
              "      <td>0.0</td>\n",
              "    </tr>\n",
              "  </tbody>\n",
              "</table>\n",
              "</div>\n",
              "      <button class=\"colab-df-convert\" onclick=\"convertToInteractive('df-5fcf90b3-5390-4fdb-b763-9d1a2c976f7c')\"\n",
              "              title=\"Convert this dataframe to an interactive table.\"\n",
              "              style=\"display:none;\">\n",
              "        \n",
              "  <svg xmlns=\"http://www.w3.org/2000/svg\" height=\"24px\"viewBox=\"0 0 24 24\"\n",
              "       width=\"24px\">\n",
              "    <path d=\"M0 0h24v24H0V0z\" fill=\"none\"/>\n",
              "    <path d=\"M18.56 5.44l.94 2.06.94-2.06 2.06-.94-2.06-.94-.94-2.06-.94 2.06-2.06.94zm-11 1L8.5 8.5l.94-2.06 2.06-.94-2.06-.94L8.5 2.5l-.94 2.06-2.06.94zm10 10l.94 2.06.94-2.06 2.06-.94-2.06-.94-.94-2.06-.94 2.06-2.06.94z\"/><path d=\"M17.41 7.96l-1.37-1.37c-.4-.4-.92-.59-1.43-.59-.52 0-1.04.2-1.43.59L10.3 9.45l-7.72 7.72c-.78.78-.78 2.05 0 2.83L4 21.41c.39.39.9.59 1.41.59.51 0 1.02-.2 1.41-.59l7.78-7.78 2.81-2.81c.8-.78.8-2.07 0-2.86zM5.41 20L4 18.59l7.72-7.72 1.47 1.35L5.41 20z\"/>\n",
              "  </svg>\n",
              "      </button>\n",
              "      \n",
              "  <style>\n",
              "    .colab-df-container {\n",
              "      display:flex;\n",
              "      flex-wrap:wrap;\n",
              "      gap: 12px;\n",
              "    }\n",
              "\n",
              "    .colab-df-convert {\n",
              "      background-color: #E8F0FE;\n",
              "      border: none;\n",
              "      border-radius: 50%;\n",
              "      cursor: pointer;\n",
              "      display: none;\n",
              "      fill: #1967D2;\n",
              "      height: 32px;\n",
              "      padding: 0 0 0 0;\n",
              "      width: 32px;\n",
              "    }\n",
              "\n",
              "    .colab-df-convert:hover {\n",
              "      background-color: #E2EBFA;\n",
              "      box-shadow: 0px 1px 2px rgba(60, 64, 67, 0.3), 0px 1px 3px 1px rgba(60, 64, 67, 0.15);\n",
              "      fill: #174EA6;\n",
              "    }\n",
              "\n",
              "    [theme=dark] .colab-df-convert {\n",
              "      background-color: #3B4455;\n",
              "      fill: #D2E3FC;\n",
              "    }\n",
              "\n",
              "    [theme=dark] .colab-df-convert:hover {\n",
              "      background-color: #434B5C;\n",
              "      box-shadow: 0px 1px 3px 1px rgba(0, 0, 0, 0.15);\n",
              "      filter: drop-shadow(0px 1px 2px rgba(0, 0, 0, 0.3));\n",
              "      fill: #FFFFFF;\n",
              "    }\n",
              "  </style>\n",
              "\n",
              "      <script>\n",
              "        const buttonEl =\n",
              "          document.querySelector('#df-5fcf90b3-5390-4fdb-b763-9d1a2c976f7c button.colab-df-convert');\n",
              "        buttonEl.style.display =\n",
              "          google.colab.kernel.accessAllowed ? 'block' : 'none';\n",
              "\n",
              "        async function convertToInteractive(key) {\n",
              "          const element = document.querySelector('#df-5fcf90b3-5390-4fdb-b763-9d1a2c976f7c');\n",
              "          const dataTable =\n",
              "            await google.colab.kernel.invokeFunction('convertToInteractive',\n",
              "                                                     [key], {});\n",
              "          if (!dataTable) return;\n",
              "\n",
              "          const docLinkHtml = 'Like what you see? Visit the ' +\n",
              "            '<a target=\"_blank\" href=https://colab.research.google.com/notebooks/data_table.ipynb>data table notebook</a>'\n",
              "            + ' to learn more about interactive tables.';\n",
              "          element.innerHTML = '';\n",
              "          dataTable['output_type'] = 'display_data';\n",
              "          await google.colab.output.renderOutput(dataTable, element);\n",
              "          const docLink = document.createElement('div');\n",
              "          docLink.innerHTML = docLinkHtml;\n",
              "          element.appendChild(docLink);\n",
              "        }\n",
              "      </script>\n",
              "    </div>\n",
              "  </div>\n",
              "  "
            ]
          },
          "metadata": {},
          "execution_count": 13
        }
      ]
    },
    {
      "cell_type": "code",
      "source": [
        "#to create a model with feature_layer\n",
        "#simple sequential model\n",
        "#add the feature layer\n",
        "#add the dense layer\n",
        "#compile the model optimize, loss function, metrics\n",
        "\n",
        "def create_model(lr, feature_layer, metrics):\n",
        "  model = tf.keras.models.Sequential()\n",
        "  model.add(feature_layer)\n",
        "  #moving the regrssion value through a sigmoid function\n",
        "  model.add(tf.keras.layers.Dense(units=1, \n",
        "                                  input_shape=(1,), \n",
        "                                  activation = tf.sigmoid))\n",
        "  model.compile(optimizer = tf.keras.optimizers.RMSprop(learning_rate = lr),\n",
        "                loss = tf.keras.losses.BinaryCrossentropy(),\n",
        "                metrics = metrics)\n",
        "  return model"
      ],
      "metadata": {
        "id": "Ds-iuKUojcj9"
      },
      "execution_count": 14,
      "outputs": []
    },
    {
      "cell_type": "code",
      "source": [
        "#features\n",
        "#labels\n",
        "#fit\n",
        "#seperate epoch\n",
        "#isolate classification metric for each epoch\n",
        "#metric\n",
        "def train_model(model, dataset, epochs, label_name, batch_size=None, shuffle=True):\n",
        "  features = {name:np.array(value) for name, value in dataset.items()}\n",
        "  label = np.array(features.pop(label_name))\n",
        "  history = model.fit(x=features,\n",
        "                      y=label,\n",
        "                      batch_size=batch_size,\n",
        "                      epochs=epochs,\n",
        "                      shuffle=shuffle)\n",
        "  epochs = history.epoch\n",
        "  hist = pd.DataFrame(history.history)\n",
        "\n",
        "  return epochs, hist\n"
      ],
      "metadata": {
        "id": "gKLPS-FUoBSp"
      },
      "execution_count": 15,
      "outputs": []
    },
    {
      "cell_type": "code",
      "source": [
        "def plot_loss_curve(epochs, hist, list_of_metrics):\n",
        "  plt.figure()\n",
        "  plt.xlabel(\"Epoch\")\n",
        "  plt.ylabel(\"Metric\")\n",
        "\n",
        "  for i in list_of_metrics:\n",
        "    x = hist[i]\n",
        "    plt.plot(epochs[1:], x[1:], label = i)\n",
        "  \n",
        "  plt.legend()"
      ],
      "metadata": {
        "id": "qsCpVMpyoC7U"
      },
      "execution_count": 16,
      "outputs": []
    },
    {
      "cell_type": "code",
      "source": [
        "#hyperparameters\n",
        "lr = 0.001\n",
        "epochs = 20\n",
        "batch_size = 1000\n",
        "label_name = \"high_median_house_value\"\n",
        "classification_threshold = 0.35\n",
        "metrics = [tf.keras.metrics.BinaryAccuracy(name='accuracy', \n",
        "                                           threshold = classification_threshold),]\n"
      ],
      "metadata": {
        "id": "ki0IMBH9rEY1"
      },
      "execution_count": 17,
      "outputs": []
    },
    {
      "cell_type": "code",
      "source": [
        "#creating the model with seq_model\n",
        "seq_model = create_model(lr, feature_layer, metrics)"
      ],
      "metadata": {
        "id": "KmqQVTIksscj"
      },
      "execution_count": 18,
      "outputs": []
    },
    {
      "cell_type": "code",
      "source": [
        "#training the model\n",
        "epochs, hist = train_model(seq_model, train_df_norm, epochs, label_name, \n",
        "                           batch_size)\n"
      ],
      "metadata": {
        "colab": {
          "base_uri": "https://localhost:8080/"
        },
        "id": "hyY1s_e_tIAG",
        "outputId": "1474cb8d-f9ee-4a3f-991a-664a4916501e"
      },
      "execution_count": 19,
      "outputs": [
        {
          "output_type": "stream",
          "name": "stdout",
          "text": [
            "Epoch 1/20\n",
            "WARNING:tensorflow:Layers in a Sequential model should only have a single input tensor. Received: inputs={'longitude': <tf.Tensor 'IteratorGetNext:3' shape=(1000,) dtype=float32>, 'latitude': <tf.Tensor 'IteratorGetNext:2' shape=(1000,) dtype=float32>, 'housing_median_age': <tf.Tensor 'IteratorGetNext:1' shape=(1000,) dtype=float32>, 'total_rooms': <tf.Tensor 'IteratorGetNext:8' shape=(1000,) dtype=float32>, 'total_bedrooms': <tf.Tensor 'IteratorGetNext:7' shape=(1000,) dtype=float32>, 'population': <tf.Tensor 'IteratorGetNext:6' shape=(1000,) dtype=float32>, 'households': <tf.Tensor 'IteratorGetNext:0' shape=(1000,) dtype=float32>, 'median_income': <tf.Tensor 'IteratorGetNext:5' shape=(1000,) dtype=float32>, 'median_house_value': <tf.Tensor 'IteratorGetNext:4' shape=(1000,) dtype=float32>}. Consider rewriting this model with the Functional API.\n",
            "WARNING:tensorflow:Layers in a Sequential model should only have a single input tensor. Received: inputs={'longitude': <tf.Tensor 'IteratorGetNext:3' shape=(1000,) dtype=float32>, 'latitude': <tf.Tensor 'IteratorGetNext:2' shape=(1000,) dtype=float32>, 'housing_median_age': <tf.Tensor 'IteratorGetNext:1' shape=(1000,) dtype=float32>, 'total_rooms': <tf.Tensor 'IteratorGetNext:8' shape=(1000,) dtype=float32>, 'total_bedrooms': <tf.Tensor 'IteratorGetNext:7' shape=(1000,) dtype=float32>, 'population': <tf.Tensor 'IteratorGetNext:6' shape=(1000,) dtype=float32>, 'households': <tf.Tensor 'IteratorGetNext:0' shape=(1000,) dtype=float32>, 'median_income': <tf.Tensor 'IteratorGetNext:5' shape=(1000,) dtype=float32>, 'median_house_value': <tf.Tensor 'IteratorGetNext:4' shape=(1000,) dtype=float32>}. Consider rewriting this model with the Functional API.\n",
            "17/17 [==============================] - 1s 2ms/step - loss: 0.6070 - accuracy: 0.5279\n",
            "Epoch 2/20\n",
            "17/17 [==============================] - 0s 2ms/step - loss: 0.5995 - accuracy: 0.5364\n",
            "Epoch 3/20\n",
            "17/17 [==============================] - 0s 2ms/step - loss: 0.5929 - accuracy: 0.5438\n",
            "Epoch 4/20\n",
            "17/17 [==============================] - 0s 2ms/step - loss: 0.5866 - accuracy: 0.5514\n",
            "Epoch 5/20\n",
            "17/17 [==============================] - 0s 3ms/step - loss: 0.5805 - accuracy: 0.5572\n",
            "Epoch 6/20\n",
            "17/17 [==============================] - 0s 2ms/step - loss: 0.5744 - accuracy: 0.5632\n",
            "Epoch 7/20\n",
            "17/17 [==============================] - 0s 3ms/step - loss: 0.5685 - accuracy: 0.5710\n",
            "Epoch 8/20\n",
            "17/17 [==============================] - 0s 3ms/step - loss: 0.5626 - accuracy: 0.5781\n",
            "Epoch 9/20\n",
            "17/17 [==============================] - 0s 3ms/step - loss: 0.5569 - accuracy: 0.5855\n",
            "Epoch 10/20\n",
            "17/17 [==============================] - 0s 4ms/step - loss: 0.5513 - accuracy: 0.5919\n",
            "Epoch 11/20\n",
            "17/17 [==============================] - 0s 6ms/step - loss: 0.5458 - accuracy: 0.5980\n",
            "Epoch 12/20\n",
            "17/17 [==============================] - 0s 5ms/step - loss: 0.5405 - accuracy: 0.6046\n",
            "Epoch 13/20\n",
            "17/17 [==============================] - 0s 3ms/step - loss: 0.5352 - accuracy: 0.6116\n",
            "Epoch 14/20\n",
            "17/17 [==============================] - 0s 4ms/step - loss: 0.5301 - accuracy: 0.6164\n",
            "Epoch 15/20\n",
            "17/17 [==============================] - 0s 3ms/step - loss: 0.5251 - accuracy: 0.6248\n",
            "Epoch 16/20\n",
            "17/17 [==============================] - 0s 3ms/step - loss: 0.5202 - accuracy: 0.6295\n",
            "Epoch 17/20\n",
            "17/17 [==============================] - 0s 5ms/step - loss: 0.5153 - accuracy: 0.6350\n",
            "Epoch 18/20\n",
            "17/17 [==============================] - 0s 5ms/step - loss: 0.5107 - accuracy: 0.6404\n",
            "Epoch 19/20\n",
            "17/17 [==============================] - 0s 5ms/step - loss: 0.5061 - accuracy: 0.6456\n",
            "Epoch 20/20\n",
            "17/17 [==============================] - 0s 4ms/step - loss: 0.5017 - accuracy: 0.6511\n"
          ]
        }
      ]
    },
    {
      "cell_type": "code",
      "source": [
        "#plotting the accuracy across every epoch\n",
        "plot_metrics_list = ['accuracy']\n",
        "plot_loss_curve(epochs, hist, plot_metrics_list)"
      ],
      "metadata": {
        "colab": {
          "base_uri": "https://localhost:8080/",
          "height": 279
        },
        "id": "IzefBTnhtJVU",
        "outputId": "8c495b5d-eb70-4e5b-a418-585e2fd74df6"
      },
      "execution_count": 20,
      "outputs": [
        {
          "output_type": "display_data",
          "data": {
            "text/plain": [
              "<Figure size 432x288 with 1 Axes>"
            ],
            "image/png": "[encoded data removed]"
          },
          "metadata": {
            "needs_background": "light"
          }
        }
      ]
    },
    {
      "cell_type": "code",
      "source": [
        "seq_model.summary()"
      ],
      "metadata": {
        "colab": {
          "base_uri": "https://localhost:8080/"
        },
        "id": "PVvTXvFynr-c",
        "outputId": "efb4127b-1496-47bf-e258-9f54259b38c1"
      },
      "execution_count": 21,
      "outputs": [
        {
          "output_type": "stream",
          "name": "stdout",
          "text": [
            "Model: \"sequential\"\n",
            "_________________________________________________________________\n",
            " Layer (type)                Output Shape              Param #   \n",
            "=================================================================\n",
            " dense_features (DenseFeatur  multiple                 0         \n",
            " es)                                                             \n",
            "                                                                 \n",
            " dense (Dense)               multiple                  3         \n",
            "                                                                 \n",
            "=================================================================\n",
            "Total params: 3\n",
            "Trainable params: 3\n",
            "Non-trainable params: 0\n",
            "_________________________________________________________________\n"
          ]
        }
      ]
    },
    {
      "cell_type": "code",
      "source": [
        "#Evaluation against test set\n",
        "features = {name:np.array(value) for name, value in test_df_norm.items()}\n",
        "label = np.array(features.pop(label_name))"
      ],
      "metadata": {
        "id": "vmQ8bzkItLeJ"
      },
      "execution_count": 22,
      "outputs": []
    },
    {
      "cell_type": "code",
      "source": [
        "seq_model.evaluate(x=features, y=label, batch_size = batch_size)"
      ],
      "metadata": {
        "colab": {
          "base_uri": "https://localhost:8080/"
        },
        "id": "MRrQ57AOUzp9",
        "outputId": "7e7a0093-ccd6-42a3-9177-2f6b8d6cc4ae"
      },
      "execution_count": 23,
      "outputs": [
        {
          "output_type": "stream",
          "name": "stdout",
          "text": [
            "WARNING:tensorflow:Layers in a Sequential model should only have a single input tensor. Received: inputs={'longitude': <tf.Tensor 'IteratorGetNext:3' shape=(1000,) dtype=float32>, 'latitude': <tf.Tensor 'IteratorGetNext:2' shape=(1000,) dtype=float32>, 'housing_median_age': <tf.Tensor 'IteratorGetNext:1' shape=(1000,) dtype=float32>, 'total_rooms': <tf.Tensor 'IteratorGetNext:8' shape=(1000,) dtype=float32>, 'total_bedrooms': <tf.Tensor 'IteratorGetNext:7' shape=(1000,) dtype=float32>, 'population': <tf.Tensor 'IteratorGetNext:6' shape=(1000,) dtype=float32>, 'households': <tf.Tensor 'IteratorGetNext:0' shape=(1000,) dtype=float32>, 'median_income': <tf.Tensor 'IteratorGetNext:5' shape=(1000,) dtype=float32>, 'median_house_value': <tf.Tensor 'IteratorGetNext:4' shape=(1000,) dtype=float32>}. Consider rewriting this model with the Functional API.\n",
            "3/3 [==============================] - 0s 10ms/step - loss: 0.5065 - accuracy: 0.6480\n"
          ]
        },
        {
          "output_type": "execute_result",
          "data": {
            "text/plain": [
              "[0.5065352320671082, 0.6480000019073486]"
            ]
          },
          "metadata": {},
          "execution_count": 23
        }
      ]
    },
    {
      "cell_type": "code",
      "source": [
        "#Adding Precision and recall as metrics\n",
        "\n",
        "lr = 0.001\n",
        "epochs = 20\n",
        "batch_size = 100\n",
        "classification_threshold = 0.35\n",
        "label_name = \"high_median_house_value\"\n",
        "metrics = [tf.keras.metrics.BinaryAccuracy(name ='accuracy',\n",
        "                                           threshold = classification_threshold),\n",
        "           tf.keras.metrics.Precision(name = 'precision',\n",
        "                                      thresholds = classification_threshold),\n",
        "           tf.keras.metrics.Recall(name = 'recall',\n",
        "                                   thresholds = classification_threshold)\n",
        "           ]"
      ],
      "metadata": {
        "id": "H59CITDnVIwz"
      },
      "execution_count": 24,
      "outputs": []
    },
    {
      "cell_type": "code",
      "source": [
        "#Model with a list a metrics\n",
        "seq_model = create_model(lr, feature_layer, metrics)\n",
        "\n",
        "epochs, hist = train_model(seq_model, train_df_norm, epochs, label_name, batch_size)\n",
        "\n",
        "plot_metric_list = ['accuracy', 'precision','recall']\n",
        "plot_loss_curve(epochs, hist, plot_metric_list)"
      ],
      "metadata": {
        "colab": {
          "base_uri": "https://localhost:8080/",
          "height": 1000
        },
        "id": "6-ELno79jZhn",
        "outputId": "b3e8ac76-038b-42e6-c5e7-d5066d920447"
      },
      "execution_count": 25,
      "outputs": [
        {
          "output_type": "stream",
          "name": "stdout",
          "text": [
            "Epoch 1/20\n",
            "WARNING:tensorflow:Layers in a Sequential model should only have a single input tensor. Received: inputs={'longitude': <tf.Tensor 'IteratorGetNext:3' shape=(100,) dtype=float32>, 'latitude': <tf.Tensor 'IteratorGetNext:2' shape=(100,) dtype=float32>, 'housing_median_age': <tf.Tensor 'IteratorGetNext:1' shape=(100,) dtype=float32>, 'total_rooms': <tf.Tensor 'IteratorGetNext:8' shape=(100,) dtype=float32>, 'total_bedrooms': <tf.Tensor 'IteratorGetNext:7' shape=(100,) dtype=float32>, 'population': <tf.Tensor 'IteratorGetNext:6' shape=(100,) dtype=float32>, 'households': <tf.Tensor 'IteratorGetNext:0' shape=(100,) dtype=float32>, 'median_income': <tf.Tensor 'IteratorGetNext:5' shape=(100,) dtype=float32>, 'median_house_value': <tf.Tensor 'IteratorGetNext:4' shape=(100,) dtype=float32>}. Consider rewriting this model with the Functional API.\n",
            "WARNING:tensorflow:Layers in a Sequential model should only have a single input tensor. Received: inputs={'longitude': <tf.Tensor 'IteratorGetNext:3' shape=(100,) dtype=float32>, 'latitude': <tf.Tensor 'IteratorGetNext:2' shape=(100,) dtype=float32>, 'housing_median_age': <tf.Tensor 'IteratorGetNext:1' shape=(100,) dtype=float32>, 'total_rooms': <tf.Tensor 'IteratorGetNext:8' shape=(100,) dtype=float32>, 'total_bedrooms': <tf.Tensor 'IteratorGetNext:7' shape=(100,) dtype=float32>, 'population': <tf.Tensor 'IteratorGetNext:6' shape=(100,) dtype=float32>, 'households': <tf.Tensor 'IteratorGetNext:0' shape=(100,) dtype=float32>, 'median_income': <tf.Tensor 'IteratorGetNext:5' shape=(100,) dtype=float32>, 'median_house_value': <tf.Tensor 'IteratorGetNext:4' shape=(100,) dtype=float32>}. Consider rewriting this model with the Functional API.\n",
            "170/170 [==============================] - 2s 4ms/step - loss: 0.7880 - accuracy: 0.3016 - precision: 0.2340 - recall: 0.7895\n",
            "Epoch 2/20\n",
            "170/170 [==============================] - 1s 5ms/step - loss: 0.6822 - accuracy: 0.3339 - precision: 0.2465 - recall: 0.8100\n",
            "Epoch 3/20\n",
            "170/170 [==============================] - 1s 5ms/step - loss: 0.5967 - accuracy: 0.4247 - precision: 0.2764 - recall: 0.8050\n",
            "Epoch 4/20\n",
            "170/170 [==============================] - 1s 5ms/step - loss: 0.5287 - accuracy: 0.6204 - precision: 0.3727 - recall: 0.7608\n",
            "Epoch 5/20\n",
            "170/170 [==============================] - 1s 4ms/step - loss: 0.4795 - accuracy: 0.7399 - precision: 0.4858 - recall: 0.6988\n",
            "Epoch 6/20\n",
            "170/170 [==============================] - 1s 5ms/step - loss: 0.4457 - accuracy: 0.7846 - precision: 0.5588 - recall: 0.6560\n",
            "Epoch 7/20\n",
            "170/170 [==============================] - 1s 5ms/step - loss: 0.4242 - accuracy: 0.8019 - precision: 0.5970 - recall: 0.6374\n",
            "Epoch 8/20\n",
            "170/170 [==============================] - 1s 7ms/step - loss: 0.4121 - accuracy: 0.8064 - precision: 0.6101 - recall: 0.6235\n",
            "Epoch 9/20\n",
            "170/170 [==============================] - 1s 7ms/step - loss: 0.4052 - accuracy: 0.8072 - precision: 0.6127 - recall: 0.6202\n",
            "Epoch 10/20\n",
            "170/170 [==============================] - 1s 5ms/step - loss: 0.4012 - accuracy: 0.8071 - precision: 0.6130 - recall: 0.6176\n",
            "Epoch 11/20\n",
            "170/170 [==============================] - 1s 8ms/step - loss: 0.3991 - accuracy: 0.8084 - precision: 0.6165 - recall: 0.6160\n",
            "Epoch 12/20\n",
            "170/170 [==============================] - 1s 7ms/step - loss: 0.3979 - accuracy: 0.8085 - precision: 0.6171 - recall: 0.6150\n",
            "Epoch 13/20\n",
            "170/170 [==============================] - 1s 7ms/step - loss: 0.3973 - accuracy: 0.8080 - precision: 0.6155 - recall: 0.6167\n",
            "Epoch 14/20\n",
            "170/170 [==============================] - 1s 8ms/step - loss: 0.3969 - accuracy: 0.8089 - precision: 0.6182 - recall: 0.6150\n",
            "Epoch 15/20\n",
            "170/170 [==============================] - 1s 7ms/step - loss: 0.3968 - accuracy: 0.8081 - precision: 0.6159 - recall: 0.6162\n",
            "Epoch 16/20\n",
            "170/170 [==============================] - 1s 6ms/step - loss: 0.3967 - accuracy: 0.8094 - precision: 0.6197 - recall: 0.6138\n",
            "Epoch 17/20\n",
            "170/170 [==============================] - 1s 5ms/step - loss: 0.3966 - accuracy: 0.8085 - precision: 0.6171 - recall: 0.6155\n",
            "Epoch 18/20\n",
            "170/170 [==============================] - 1s 5ms/step - loss: 0.3966 - accuracy: 0.8092 - precision: 0.6192 - recall: 0.6138\n",
            "Epoch 19/20\n",
            "170/170 [==============================] - 1s 7ms/step - loss: 0.3966 - accuracy: 0.8095 - precision: 0.6199 - recall: 0.6136\n",
            "Epoch 20/20\n",
            "170/170 [==============================] - 1s 4ms/step - loss: 0.3966 - accuracy: 0.8094 - precision: 0.6192 - recall: 0.6153\n"
          ]
        },
        {
          "output_type": "display_data",
          "data": {
            "text/plain": [
              "<Figure size 432x288 with 1 Axes>"
            ],
            "image/png": "[encoded data removed]"
          },
          "metadata": {
            "needs_background": "light"
          }
        }
      ]
    },
    {
      "cell_type": "markdown",
      "source": [
        "With the graph above, we cannot decide just precision and recall because they are conflicted. So we are adding AUC as another metric\n",
        "to evaluate the model's overall performance"
      ],
      "metadata": {
        "id": "nfGk1i5Un_UT"
      }
    },
    {
      "cell_type": "code",
      "source": [
        "#AUC curve\n",
        "#Hyperparameters\n",
        "lr = 0.001\n",
        "epochs = 20\n",
        "batch_size = 100\n",
        "label_name =\"high_median_house_value\"\n",
        "\n",
        "metrics = tf.keras.metrics.AUC(name = \"auc\", num_thresholds = 100)\n",
        "\n",
        "seq_model = create_model(lr, feature_layer, metrics)\n",
        "epochs, hist = train_model(seq_model, train_df_norm, epochs, label_name, batch_size)\n",
        "plot_metrics_list = ['auc']\n",
        "plot_loss_curve(epochs, hist, plot_metrics_list)"
      ],
      "metadata": {
        "colab": {
          "base_uri": "https://localhost:8080/",
          "height": 1000
        },
        "id": "JCsR7mrXjgD3",
        "outputId": "d406f971-9bc6-41db-8f5e-0e573f75182b"
      },
      "execution_count": 26,
      "outputs": [
        {
          "output_type": "stream",
          "name": "stdout",
          "text": [
            "Epoch 1/20\n",
            "WARNING:tensorflow:Layers in a Sequential model should only have a single input tensor. Received: inputs={'longitude': <tf.Tensor 'IteratorGetNext:3' shape=(100,) dtype=float32>, 'latitude': <tf.Tensor 'IteratorGetNext:2' shape=(100,) dtype=float32>, 'housing_median_age': <tf.Tensor 'IteratorGetNext:1' shape=(100,) dtype=float32>, 'total_rooms': <tf.Tensor 'IteratorGetNext:8' shape=(100,) dtype=float32>, 'total_bedrooms': <tf.Tensor 'IteratorGetNext:7' shape=(100,) dtype=float32>, 'population': <tf.Tensor 'IteratorGetNext:6' shape=(100,) dtype=float32>, 'households': <tf.Tensor 'IteratorGetNext:0' shape=(100,) dtype=float32>, 'median_income': <tf.Tensor 'IteratorGetNext:5' shape=(100,) dtype=float32>, 'median_house_value': <tf.Tensor 'IteratorGetNext:4' shape=(100,) dtype=float32>}. Consider rewriting this model with the Functional API.\n",
            "WARNING:tensorflow:Layers in a Sequential model should only have a single input tensor. Received: inputs={'longitude': <tf.Tensor 'IteratorGetNext:3' shape=(100,) dtype=float32>, 'latitude': <tf.Tensor 'IteratorGetNext:2' shape=(100,) dtype=float32>, 'housing_median_age': <tf.Tensor 'IteratorGetNext:1' shape=(100,) dtype=float32>, 'total_rooms': <tf.Tensor 'IteratorGetNext:8' shape=(100,) dtype=float32>, 'total_bedrooms': <tf.Tensor 'IteratorGetNext:7' shape=(100,) dtype=float32>, 'population': <tf.Tensor 'IteratorGetNext:6' shape=(100,) dtype=float32>, 'households': <tf.Tensor 'IteratorGetNext:0' shape=(100,) dtype=float32>, 'median_income': <tf.Tensor 'IteratorGetNext:5' shape=(100,) dtype=float32>, 'median_house_value': <tf.Tensor 'IteratorGetNext:4' shape=(100,) dtype=float32>}. Consider rewriting this model with the Functional API.\n",
            "170/170 [==============================] - 2s 6ms/step - loss: 1.0948 - auc: 0.1803\n",
            "Epoch 2/20\n",
            "170/170 [==============================] - 1s 7ms/step - loss: 0.9860 - auc: 0.1890\n",
            "Epoch 3/20\n",
            "170/170 [==============================] - 0s 3ms/step - loss: 0.8895 - auc: 0.1981\n",
            "Epoch 4/20\n",
            "170/170 [==============================] - 0s 2ms/step - loss: 0.8057 - auc: 0.2081\n",
            "Epoch 5/20\n",
            "170/170 [==============================] - 0s 2ms/step - loss: 0.7327 - auc: 0.2239\n",
            "Epoch 6/20\n",
            "170/170 [==============================] - 0s 2ms/step - loss: 0.6708 - auc: 0.2495\n",
            "Epoch 7/20\n",
            "170/170 [==============================] - 0s 3ms/step - loss: 0.6192 - auc: 0.3048\n",
            "Epoch 8/20\n",
            "170/170 [==============================] - 0s 2ms/step - loss: 0.5753 - auc: 0.4611\n",
            "Epoch 9/20\n",
            "170/170 [==============================] - 0s 3ms/step - loss: 0.5369 - auc: 0.7232\n",
            "Epoch 10/20\n",
            "170/170 [==============================] - 0s 3ms/step - loss: 0.5043 - auc: 0.7996\n",
            "Epoch 11/20\n",
            "170/170 [==============================] - 0s 2ms/step - loss: 0.4772 - auc: 0.8198\n",
            "Epoch 12/20\n",
            "170/170 [==============================] - 0s 3ms/step - loss: 0.4554 - auc: 0.8279\n",
            "Epoch 13/20\n",
            "170/170 [==============================] - 0s 3ms/step - loss: 0.4379 - auc: 0.8326\n",
            "Epoch 14/20\n",
            "170/170 [==============================] - 0s 3ms/step - loss: 0.4246 - auc: 0.8344\n",
            "Epoch 15/20\n",
            "170/170 [==============================] - 0s 3ms/step - loss: 0.4147 - auc: 0.8350\n",
            "Epoch 16/20\n",
            "170/170 [==============================] - 0s 2ms/step - loss: 0.4075 - auc: 0.8360\n",
            "Epoch 17/20\n",
            "170/170 [==============================] - 0s 2ms/step - loss: 0.4028 - auc: 0.8364\n",
            "Epoch 18/20\n",
            "170/170 [==============================] - 0s 2ms/step - loss: 0.3999 - auc: 0.8367\n",
            "Epoch 19/20\n",
            "170/170 [==============================] - 0s 2ms/step - loss: 0.3983 - auc: 0.8366\n",
            "Epoch 20/20\n",
            "170/170 [==============================] - 0s 2ms/step - loss: 0.3975 - auc: 0.8368\n"
          ]
        },
        {
          "output_type": "display_data",
          "data": {
            "text/plain": [
              "<Figure size 432x288 with 1 Axes>"
            ],
            "image/png": "[encoded data removed]"
          },
          "metadata": {
            "needs_background": "light"
          }
        }
      ]
    },
    {
      "cell_type": "markdown",
      "source": [
        "ROC is a probabality curve\n",
        "and AUC measure the degree or seperability ie, how better the model is in distinguishing between classes\n"
      ],
      "metadata": {
        "id": "PJFCyixNpy70"
      }
    },
    {
      "cell_type": "code",
      "source": [
        ""
      ],
      "metadata": {
        "id": "guLf7hjfpz3E"
      },
      "execution_count": 26,
      "outputs": []
    }
  ]
}